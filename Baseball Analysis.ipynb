{
 "cells": [
  {
   "cell_type": "code",
   "execution_count": 1,
   "metadata": {
    "collapsed": false,
    "deletable": true,
    "editable": true
   },
   "outputs": [],
   "source": [
    "import pandas as pd\n",
    "import os\n",
    "import numpy as np\n",
    "from IPython.display import display\n",
    "%matplotlib inline\n",
    "\n",
    "master_df = pd.read_csv('./baseballdatabank-2017.1/core/Master.csv')\n",
    "salaries_df = pd.read_csv('./baseballdatabank-2017.1/core/salaries.csv')"
   ]
  },
  {
   "cell_type": "markdown",
   "metadata": {
    "deletable": true,
    "editable": true
   },
   "source": [
    "# Introduction\n",
    "\n",
    "I chose to use the baseball data bank for this analysis. After some initial exploration of the `master`, `fielding`, `pitching`, `batting`, and `salaries` table I decided to focus on the `master` and `salaries` tables. I've always been intererested in labor economics so I decided that it would be fun to look at how economic opportunity changes with pro baseball players' ages.\n",
    "\n",
    "The following sections detail the questions I decided to explore and their analysis."
   ]
  },
  {
   "cell_type": "markdown",
   "metadata": {
    "deletable": true,
    "editable": true
   },
   "source": [
    "### How old are players when they go pro?"
   ]
  },
  {
   "cell_type": "markdown",
   "metadata": {
    "deletable": true,
    "editable": true
   },
   "source": [
    "The age of a player going pro can be represented as their `debut - birthdate`. The data for both is contained in the table but I needed to do a little munging to get at them.\n",
    "\n",
    "I decided to start with the debut, which was given as a string and simply had to be converted to a datetime."
   ]
  },
  {
   "cell_type": "code",
   "execution_count": 2,
   "metadata": {
    "collapsed": true,
    "deletable": true,
    "editable": true
   },
   "outputs": [],
   "source": [
    "master_df['debut'] = pd.to_datetime(master_df['debut'])"
   ]
  },
  {
   "cell_type": "markdown",
   "metadata": {
    "deletable": true,
    "editable": true
   },
   "source": [
    "Next I went looking for birthdates, which were a little more tricky. The `year`, `month`, and `day` of the birthdate were stored seperately, so I renamed some columns to fit the built in `pd.to_datetime` function and created a combined `birthDate`. "
   ]
  },
  {
   "cell_type": "code",
   "execution_count": 3,
   "metadata": {
    "collapsed": true,
    "deletable": true,
    "editable": true
   },
   "outputs": [],
   "source": [
    "master_df['year'] = master_df['birthYear']\n",
    "master_df['month'] = master_df['birthMonth']\n",
    "master_df['day'] = master_df['birthDay']\n",
    "master_df['birthDate'] = pd.to_datetime(master_df[['year', 'month', 'day']])"
   ]
  },
  {
   "cell_type": "markdown",
   "metadata": {
    "deletable": true,
    "editable": true
   },
   "source": [
    "Now that I had a working `birthdate` and `debut` I decided to subtract the two to get their players' `ageAtDebut`. Because any players that were missing `debut` or `birthDate` data would result in NaN values I first filled them with `0`, but that results in a bunch of 0 ages which weren't very useful so I filtered them out in the final analysis.\n",
    "\n",
    "The age is initally calcualted in days then divided by 365 to approximate years."
   ]
  },
  {
   "cell_type": "code",
   "execution_count": 4,
   "metadata": {
    "collapsed": false,
    "deletable": true,
    "editable": true
   },
   "outputs": [
    {
     "data": {
      "text/plain": [
       "<matplotlib.axes._subplots.AxesSubplot at 0x11490efd0>"
      ]
     },
     "metadata": {},
     "output_type": "display_data"
    },
    {
     "data": {
      "text/plain": [
       "count    18473.000000\n",
       "mean        24.338905\n",
       "std          2.752478\n",
       "min         15.873973\n",
       "25%         22.501370\n",
       "50%         24.139726\n",
       "75%         25.890411\n",
       "max         42.567123\n",
       "Name: ageAtDebut, dtype: float64"
      ]
     },
     "execution_count": 4,
     "metadata": {},
     "output_type": "execute_result"
    },
    {
     "data": {
      "image/png": "[encoded data removed]",
      "text/plain": [
       "<matplotlib.figure.Figure at 0x110cd2c10>"
      ]
     },
     "metadata": {},
     "output_type": "display_data"
    }
   ],
   "source": [
    "master_df['ageAtDebut'] = (master_df['debut'] - master_df['birthDate']).fillna(0)\n",
    "master_df['ageAtDebut'] = (master_df['ageAtDebut']/ (np.timedelta64(1, 'D')*365))\n",
    "ages = master_df['ageAtDebut'][master_df['ageAtDebut'] > 0]\n",
    "ages_hist = ages.hist()\n",
    "ages_hist.set_xlabel(\"Age\")\n",
    "ages_hist.set_ylabel(\"Frequency\")\n",
    "ages_hist.set_title(\"Age Distribution of Professional Baseball Players' Debuts\")\n",
    "display(ages_hist)\n",
    "ages.describe()"
   ]
  },
  {
   "cell_type": "markdown",
   "metadata": {
    "deletable": true,
    "editable": true
   },
   "source": [
    "From the data above we see that the average age of a player to go pro is when they are 24 years old. The youngest pro ever was just 15 and the oldest was 42. Most players go pro in their 20's.\n",
    "\n",
    "A limitation of this data is that 632 of the 19105 entries are missing the data necessary to calculate their age at the time of the debut."
   ]
  },
  {
   "cell_type": "code",
   "execution_count": 5,
   "metadata": {
    "collapsed": false
   },
   "outputs": [
    {
     "name": "stdout",
     "output_type": "stream",
     "text": [
      "Number of Records: 19105\n",
      "Number of Records w/ Errors: 632\n"
     ]
    }
   ],
   "source": [
    "playerCount = len(master_df)\n",
    "debutAgeNulls = playerCount - len(ages)\n",
    "\n",
    "print 'Number of Records: ' + str(playerCount)\n",
    "print 'Number of Records w/ Errors: ' + str(debutAgeNulls)"
   ]
  },
  {
   "cell_type": "markdown",
   "metadata": {
    "deletable": true,
    "editable": true
   },
   "source": [
    "### How does average salary change with age?"
   ]
  },
  {
   "cell_type": "markdown",
   "metadata": {
    "deletable": true,
    "editable": true
   },
   "source": [
    "Now that we know how old players are when they go pro, I decided to explore how the earning of players changes on average with age.\n",
    "\n",
    "To perform this analysis I needed to combine `salary` data from the `salaries` table with `age`. As with the age at debut analysis I knew that I would need to subtract two dates -- in this case, birthdate from the year of the player's salary data. I already had a datetime representing birthdays, so this time I just had to convert the string representing the salary year to a datetime and again filtered out any 0 ages that were caused by missing data.\n",
    "\n",
    "Note that ages are represented as truncated integer year. The age is initally calcualted in days then divided by 365 to approximate years."
   ]
  },
  {
   "cell_type": "code",
   "execution_count": 6,
   "metadata": {
    "collapsed": false,
    "deletable": true,
    "editable": true
   },
   "outputs": [
    {
     "data": {
      "text/plain": [
       "<matplotlib.text.Text at 0x11324d090>"
      ]
     },
     "execution_count": 6,
     "metadata": {},
     "output_type": "execute_result"
    },
    {
     "data": {
      "image/png": "[encoded data removed]",
      "text/plain": [
       "<matplotlib.figure.Figure at 0x10f20e610>"
      ]
     },
     "metadata": {},
     "output_type": "display_data"
    }
   ],
   "source": [
    "ages_df = pd.merge(salaries_df, master_df, how='left', left_on='playerID', right_on='playerID')\n",
    "ages_df['age'] = (pd.to_datetime(ages_df['yearID'], format='%Y') - ages_df['birthDate'])\n",
    "ages_df['age'] = (ages_df['age'].fillna(0) / (np.timedelta64(1, 'D')*365)).astype(int)\n",
    "ages_plot = ages_df[ages_df['age']>0].groupby(['age'])['salary'].mean().plot()\n",
    "ages_plot.set_xlabel(\"Age\")\n",
    "ages_plot.set_ylabel(\"Average Annual Salary ($)\")\n",
    "ages_plot.set_title(\"Average Annual Salary Compared to Age\")"
   ]
  },
  {
   "cell_type": "markdown",
   "metadata": {
    "deletable": true,
    "editable": true
   },
   "source": [
    "It appears that there's an expontential increase in average salary for players in their 20's as they age and then it starts to peak in their early 30's which continues on through their 40's and has greatly decreased by their 50's. There's an large spike in the late 40's that actually constitutes the largest average salary. I decided not to explore the cause of the peak, but it would be an interesting point of further study. I hypothesize that this peak is driven by very high paid outliers.\n",
    "\n",
    "Out of the 26428 records, there were only 8 entries that have erroneous age data -- all of these are due to missing birthdates. There are only 2 records with a salary of $0. A major limitation of the data is it only includes salary data for 5155 of the 19105 players in the dataset. It should also be noted that this is an average across different years and the salary data is not normalized. Ideally dollar amounts would be normalized to a particular year or each year would be comapred independently"
   ]
  },
  {
   "cell_type": "code",
   "execution_count": 7,
   "metadata": {
    "collapsed": false
   },
   "outputs": [
    {
     "name": "stdout",
     "output_type": "stream",
     "text": [
      "Number of Records: 26428\n",
      "Number of Records w/ Missing Ages: 8\n",
      "Salaries of $0: 2\n",
      "Players with Salary Data: 5155\n"
     ]
    }
   ],
   "source": [
    "salaryCount = len(salaries_df)\n",
    "salaryAgeNulls = (pd.to_datetime(ages_df['yearID'], format='%Y') - ages_df['birthDate']).isnull().sum()\n",
    "uniquePlayerSalaries = ages_df['playerID'].unique()\n",
    "\n",
    "\n",
    "print 'Number of Records: ' + str(salaryCount)\n",
    "print 'Number of Records w/ Missing Ages: ' + str(salaryAgeNulls)\n",
    "print 'Salaries of $0: ' + str(len(ages_df[ages_df['salary'] ==0]))\n",
    "print 'Players with Salary Data: ' + str(len(uniquePlayerSalaries))"
   ]
  },
  {
   "cell_type": "markdown",
   "metadata": {
    "deletable": true,
    "editable": true
   },
   "source": [
    "### How does birth month change average salary?"
   ]
  },
  {
   "cell_type": "markdown",
   "metadata": {
    "deletable": true,
    "editable": true
   },
   "source": [
    "I once read that for hockey player's there's a strong correlation between star players and the month in which they were born. The hypothesized explanation was that it was caused by age cutoffs for childrens sports leagues. Depending on when they were born, the oldest team members would be as much as a year older than their peers who were the same 'age'. At early ages, that short developmental advantage is actually a large competitive advantage and gives those students a compounding effect over their lifetimes. I was curious if the same type of trend would show up in the baseball data."
   ]
  },
  {
   "cell_type": "code",
   "execution_count": 8,
   "metadata": {
    "collapsed": false,
    "deletable": true,
    "editable": true
   },
   "outputs": [
    {
     "data": {
      "text/plain": [
       "<matplotlib.text.Text at 0x11334fa50>"
      ]
     },
     "execution_count": 8,
     "metadata": {},
     "output_type": "execute_result"
    },
    {
     "data": {
      "image/png": "[encoded data removed]",
      "text/plain": [
       "<matplotlib.figure.Figure at 0x1148eaad0>"
      ]
     },
     "metadata": {},
     "output_type": "display_data"
    }
   ],
   "source": [
    "birthmonth_df = pd.merge(salaries_df, master_df, how='left', left_on='playerID', right_on='playerID')\n",
    "birthmonth_salaries = birthmonth_df.groupby(['birthMonth'])['salary'].mean()\n",
    "birthmonth_plot = birthmonth_salaries.plot()\n",
    "birthmonth_plot.set_xlabel(\"Birth Month\")\n",
    "birthmonth_plot.set_ylabel(\"Average Annual Salary ($)\")\n",
    "birthmonth_plot.set_title(\"Average Annual Salary Compared to Birth Month\")"
   ]
  },
  {
   "cell_type": "markdown",
   "metadata": {
    "deletable": true,
    "editable": true
   },
   "source": [
    "It doesn't appear that there's a clear trend in the birth-month and the average salary of a player. The winter months are lower on average except for November, which is actually quite high. From this data, I don't think it's approriate to conclude that there's a clear trend in certain birthmonths leading to higher salaries. Again, I hypothesize that this data might be heavily skewed by high paid outliers, which might be a good topic for future exploration.\n",
    "\n",
    "A major limitation of the data is it only includes salary data for 5155 of the 19105 players in the dataset. A major limitation of the data is it only includes salary data for 5155 of the 19105 players in the dataset. It should also be noted that this is an average across different years and the salary data is not normalized. Ideally dollar amounts would be normalized to a particular year or each year would be comapred independently Only 8 of the salaries are missing an associated birth month."
   ]
  },
  {
   "cell_type": "code",
   "execution_count": 9,
   "metadata": {
    "collapsed": false
   },
   "outputs": [
    {
     "name": "stdout",
     "output_type": "stream",
     "text": [
      "Number of Records: 26428\n",
      "Number of Records w/ Errors: 8\n"
     ]
    }
   ],
   "source": [
    "birthMonthCount = len(birthmonth_df)\n",
    "birthMonthNulls = (birthmonth_df['birthMonth']).isnull().sum()\n",
    "\n",
    "print 'Number of Records: ' + str(birthMonthCount)\n",
    "print 'Number of Records w/ Errors: ' + str(birthMonthNulls)"
   ]
  },
  {
   "cell_type": "markdown",
   "metadata": {
    "deletable": true,
    "editable": true
   },
   "source": [
    "# Appendix\n",
    "\n",
    "The following section contains explory information for the two tables used in this analysis. They are provided for reference and to illustrate the nature of the underlying data."
   ]
  },
  {
   "cell_type": "code",
   "execution_count": 10,
   "metadata": {
    "collapsed": false,
    "deletable": true,
    "editable": true
   },
   "outputs": [
    {
     "name": "stdout",
     "output_type": "stream",
     "text": [
      "19105\n"
     ]
    },
    {
     "data": {
      "text/html": [
       "<div>\n",
       "<table border=\"1\" class=\"dataframe\">\n",
       "  <thead>\n",
       "    <tr style=\"text-align: right;\">\n",
       "      <th></th>\n",
       "      <th>playerID</th>\n",
       "      <th>birthYear</th>\n",
       "      <th>birthMonth</th>\n",
       "      <th>birthDay</th>\n",
       "      <th>birthCountry</th>\n",
       "      <th>birthState</th>\n",
       "      <th>birthCity</th>\n",
       "      <th>deathYear</th>\n",
       "      <th>deathMonth</th>\n",
       "      <th>deathDay</th>\n",
       "      <th>...</th>\n",
       "      <th>throws</th>\n",
       "      <th>debut</th>\n",
       "      <th>finalGame</th>\n",
       "      <th>retroID</th>\n",
       "      <th>bbrefID</th>\n",
       "      <th>year</th>\n",
       "      <th>month</th>\n",
       "      <th>day</th>\n",
       "      <th>birthDate</th>\n",
       "      <th>ageAtDebut</th>\n",
       "    </tr>\n",
       "  </thead>\n",
       "  <tbody>\n",
       "    <tr>\n",
       "      <th>0</th>\n",
       "      <td>aardsda01</td>\n",
       "      <td>1981.0</td>\n",
       "      <td>12.0</td>\n",
       "      <td>27.0</td>\n",
       "      <td>USA</td>\n",
       "      <td>CO</td>\n",
       "      <td>Denver</td>\n",
       "      <td>NaN</td>\n",
       "      <td>NaN</td>\n",
       "      <td>NaN</td>\n",
       "      <td>...</td>\n",
       "      <td>R</td>\n",
       "      <td>2004-04-06</td>\n",
       "      <td>2015-08-23</td>\n",
       "      <td>aardd001</td>\n",
       "      <td>aardsda01</td>\n",
       "      <td>1981.0</td>\n",
       "      <td>12.0</td>\n",
       "      <td>27.0</td>\n",
       "      <td>1981-12-27</td>\n",
       "      <td>22.290411</td>\n",
       "    </tr>\n",
       "  </tbody>\n",
       "</table>\n",
       "<p>1 rows × 29 columns</p>\n",
       "</div>"
      ],
      "text/plain": [
       "    playerID  birthYear  birthMonth  birthDay birthCountry birthState  \\\n",
       "0  aardsda01     1981.0        12.0      27.0          USA         CO   \n",
       "\n",
       "  birthCity  deathYear  deathMonth  deathDay    ...     throws      debut  \\\n",
       "0    Denver        NaN         NaN       NaN    ...          R 2004-04-06   \n",
       "\n",
       "    finalGame   retroID    bbrefID    year  month   day  birthDate ageAtDebut  \n",
       "0  2015-08-23  aardd001  aardsda01  1981.0   12.0  27.0 1981-12-27  22.290411  \n",
       "\n",
       "[1 rows x 29 columns]"
      ]
     },
     "metadata": {},
     "output_type": "display_data"
    },
    {
     "data": {
      "text/html": [
       "<div>\n",
       "<table border=\"1\" class=\"dataframe\">\n",
       "  <thead>\n",
       "    <tr style=\"text-align: right;\">\n",
       "      <th></th>\n",
       "      <th>birthYear</th>\n",
       "      <th>birthMonth</th>\n",
       "      <th>birthDay</th>\n",
       "      <th>deathYear</th>\n",
       "      <th>deathMonth</th>\n",
       "      <th>deathDay</th>\n",
       "      <th>weight</th>\n",
       "      <th>height</th>\n",
       "      <th>year</th>\n",
       "      <th>month</th>\n",
       "      <th>day</th>\n",
       "      <th>ageAtDebut</th>\n",
       "    </tr>\n",
       "  </thead>\n",
       "  <tbody>\n",
       "    <tr>\n",
       "      <th>count</th>\n",
       "      <td>18973.000000</td>\n",
       "      <td>18803.000000</td>\n",
       "      <td>18656.000000</td>\n",
       "      <td>9441.000000</td>\n",
       "      <td>9440.000000</td>\n",
       "      <td>9439.000000</td>\n",
       "      <td>18251.000000</td>\n",
       "      <td>18320.000000</td>\n",
       "      <td>18973.000000</td>\n",
       "      <td>18803.000000</td>\n",
       "      <td>18656.000000</td>\n",
       "      <td>19105.000000</td>\n",
       "    </tr>\n",
       "    <tr>\n",
       "      <th>mean</th>\n",
       "      <td>1931.435356</td>\n",
       "      <td>6.629474</td>\n",
       "      <td>15.614816</td>\n",
       "      <td>1964.287364</td>\n",
       "      <td>6.483581</td>\n",
       "      <td>15.569552</td>\n",
       "      <td>186.375596</td>\n",
       "      <td>72.273799</td>\n",
       "      <td>1931.435356</td>\n",
       "      <td>6.629474</td>\n",
       "      <td>15.614816</td>\n",
       "      <td>23.533766</td>\n",
       "    </tr>\n",
       "    <tr>\n",
       "      <th>std</th>\n",
       "      <td>41.555514</td>\n",
       "      <td>3.468103</td>\n",
       "      <td>8.750216</td>\n",
       "      <td>31.808030</td>\n",
       "      <td>3.529655</td>\n",
       "      <td>8.779552</td>\n",
       "      <td>21.524765</td>\n",
       "      <td>2.603904</td>\n",
       "      <td>41.555514</td>\n",
       "      <td>3.468103</td>\n",
       "      <td>8.750216</td>\n",
       "      <td>5.125861</td>\n",
       "    </tr>\n",
       "    <tr>\n",
       "      <th>min</th>\n",
       "      <td>1820.000000</td>\n",
       "      <td>1.000000</td>\n",
       "      <td>1.000000</td>\n",
       "      <td>1872.000000</td>\n",
       "      <td>1.000000</td>\n",
       "      <td>1.000000</td>\n",
       "      <td>65.000000</td>\n",
       "      <td>43.000000</td>\n",
       "      <td>1820.000000</td>\n",
       "      <td>1.000000</td>\n",
       "      <td>1.000000</td>\n",
       "      <td>0.000000</td>\n",
       "    </tr>\n",
       "    <tr>\n",
       "      <th>25%</th>\n",
       "      <td>1895.000000</td>\n",
       "      <td>4.000000</td>\n",
       "      <td>8.000000</td>\n",
       "      <td>1942.000000</td>\n",
       "      <td>3.000000</td>\n",
       "      <td>8.000000</td>\n",
       "      <td>170.000000</td>\n",
       "      <td>71.000000</td>\n",
       "      <td>1895.000000</td>\n",
       "      <td>4.000000</td>\n",
       "      <td>8.000000</td>\n",
       "      <td>22.295890</td>\n",
       "    </tr>\n",
       "    <tr>\n",
       "      <th>50%</th>\n",
       "      <td>1937.000000</td>\n",
       "      <td>7.000000</td>\n",
       "      <td>16.000000</td>\n",
       "      <td>1967.000000</td>\n",
       "      <td>6.000000</td>\n",
       "      <td>15.000000</td>\n",
       "      <td>185.000000</td>\n",
       "      <td>72.000000</td>\n",
       "      <td>1937.000000</td>\n",
       "      <td>7.000000</td>\n",
       "      <td>16.000000</td>\n",
       "      <td>24.041096</td>\n",
       "    </tr>\n",
       "    <tr>\n",
       "      <th>75%</th>\n",
       "      <td>1969.000000</td>\n",
       "      <td>10.000000</td>\n",
       "      <td>23.000000</td>\n",
       "      <td>1990.000000</td>\n",
       "      <td>10.000000</td>\n",
       "      <td>23.000000</td>\n",
       "      <td>200.000000</td>\n",
       "      <td>74.000000</td>\n",
       "      <td>1969.000000</td>\n",
       "      <td>10.000000</td>\n",
       "      <td>23.000000</td>\n",
       "      <td>25.813699</td>\n",
       "    </tr>\n",
       "    <tr>\n",
       "      <th>max</th>\n",
       "      <td>1996.000000</td>\n",
       "      <td>12.000000</td>\n",
       "      <td>31.000000</td>\n",
       "      <td>2017.000000</td>\n",
       "      <td>12.000000</td>\n",
       "      <td>31.000000</td>\n",
       "      <td>320.000000</td>\n",
       "      <td>83.000000</td>\n",
       "      <td>1996.000000</td>\n",
       "      <td>12.000000</td>\n",
       "      <td>31.000000</td>\n",
       "      <td>42.567123</td>\n",
       "    </tr>\n",
       "  </tbody>\n",
       "</table>\n",
       "</div>"
      ],
      "text/plain": [
       "          birthYear    birthMonth      birthDay    deathYear   deathMonth  \\\n",
       "count  18973.000000  18803.000000  18656.000000  9441.000000  9440.000000   \n",
       "mean    1931.435356      6.629474     15.614816  1964.287364     6.483581   \n",
       "std       41.555514      3.468103      8.750216    31.808030     3.529655   \n",
       "min     1820.000000      1.000000      1.000000  1872.000000     1.000000   \n",
       "25%     1895.000000      4.000000      8.000000  1942.000000     3.000000   \n",
       "50%     1937.000000      7.000000     16.000000  1967.000000     6.000000   \n",
       "75%     1969.000000     10.000000     23.000000  1990.000000    10.000000   \n",
       "max     1996.000000     12.000000     31.000000  2017.000000    12.000000   \n",
       "\n",
       "          deathDay        weight        height          year         month  \\\n",
       "count  9439.000000  18251.000000  18320.000000  18973.000000  18803.000000   \n",
       "mean     15.569552    186.375596     72.273799   1931.435356      6.629474   \n",
       "std       8.779552     21.524765      2.603904     41.555514      3.468103   \n",
       "min       1.000000     65.000000     43.000000   1820.000000      1.000000   \n",
       "25%       8.000000    170.000000     71.000000   1895.000000      4.000000   \n",
       "50%      15.000000    185.000000     72.000000   1937.000000      7.000000   \n",
       "75%      23.000000    200.000000     74.000000   1969.000000     10.000000   \n",
       "max      31.000000    320.000000     83.000000   1996.000000     12.000000   \n",
       "\n",
       "                day    ageAtDebut  \n",
       "count  18656.000000  19105.000000  \n",
       "mean      15.614816     23.533766  \n",
       "std        8.750216      5.125861  \n",
       "min        1.000000      0.000000  \n",
       "25%        8.000000     22.295890  \n",
       "50%       16.000000     24.041096  \n",
       "75%       23.000000     25.813699  \n",
       "max       31.000000     42.567123  "
      ]
     },
     "execution_count": 10,
     "metadata": {},
     "output_type": "execute_result"
    }
   ],
   "source": [
    "print len(master_df)\n",
    "display(master_df.head(1))\n",
    "master_df.describe()"
   ]
  },
  {
   "cell_type": "code",
   "execution_count": 11,
   "metadata": {
    "collapsed": false,
    "deletable": true,
    "editable": true
   },
   "outputs": [
    {
     "name": "stdout",
     "output_type": "stream",
     "text": [
      "26428\n"
     ]
    },
    {
     "data": {
      "text/html": [
       "<div>\n",
       "<table border=\"1\" class=\"dataframe\">\n",
       "  <thead>\n",
       "    <tr style=\"text-align: right;\">\n",
       "      <th></th>\n",
       "      <th>yearID</th>\n",
       "      <th>teamID</th>\n",
       "      <th>lgID</th>\n",
       "      <th>playerID</th>\n",
       "      <th>salary</th>\n",
       "    </tr>\n",
       "  </thead>\n",
       "  <tbody>\n",
       "    <tr>\n",
       "      <th>0</th>\n",
       "      <td>1985</td>\n",
       "      <td>ATL</td>\n",
       "      <td>NL</td>\n",
       "      <td>barkele01</td>\n",
       "      <td>870000</td>\n",
       "    </tr>\n",
       "  </tbody>\n",
       "</table>\n",
       "</div>"
      ],
      "text/plain": [
       "   yearID teamID lgID   playerID  salary\n",
       "0    1985    ATL   NL  barkele01  870000"
      ]
     },
     "metadata": {},
     "output_type": "display_data"
    },
    {
     "data": {
      "text/html": [
       "<div>\n",
       "<table border=\"1\" class=\"dataframe\">\n",
       "  <thead>\n",
       "    <tr style=\"text-align: right;\">\n",
       "      <th></th>\n",
       "      <th>yearID</th>\n",
       "      <th>salary</th>\n",
       "    </tr>\n",
       "  </thead>\n",
       "  <tbody>\n",
       "    <tr>\n",
       "      <th>count</th>\n",
       "      <td>26428.000000</td>\n",
       "      <td>2.642800e+04</td>\n",
       "    </tr>\n",
       "    <tr>\n",
       "      <th>mean</th>\n",
       "      <td>2000.878727</td>\n",
       "      <td>2.085634e+06</td>\n",
       "    </tr>\n",
       "    <tr>\n",
       "      <th>std</th>\n",
       "      <td>8.909314</td>\n",
       "      <td>3.455348e+06</td>\n",
       "    </tr>\n",
       "    <tr>\n",
       "      <th>min</th>\n",
       "      <td>1985.000000</td>\n",
       "      <td>0.000000e+00</td>\n",
       "    </tr>\n",
       "    <tr>\n",
       "      <th>25%</th>\n",
       "      <td>1994.000000</td>\n",
       "      <td>2.947020e+05</td>\n",
       "    </tr>\n",
       "    <tr>\n",
       "      <th>50%</th>\n",
       "      <td>2001.000000</td>\n",
       "      <td>5.500000e+05</td>\n",
       "    </tr>\n",
       "    <tr>\n",
       "      <th>75%</th>\n",
       "      <td>2009.000000</td>\n",
       "      <td>2.350000e+06</td>\n",
       "    </tr>\n",
       "    <tr>\n",
       "      <th>max</th>\n",
       "      <td>2016.000000</td>\n",
       "      <td>3.300000e+07</td>\n",
       "    </tr>\n",
       "  </tbody>\n",
       "</table>\n",
       "</div>"
      ],
      "text/plain": [
       "             yearID        salary\n",
       "count  26428.000000  2.642800e+04\n",
       "mean    2000.878727  2.085634e+06\n",
       "std        8.909314  3.455348e+06\n",
       "min     1985.000000  0.000000e+00\n",
       "25%     1994.000000  2.947020e+05\n",
       "50%     2001.000000  5.500000e+05\n",
       "75%     2009.000000  2.350000e+06\n",
       "max     2016.000000  3.300000e+07"
      ]
     },
     "execution_count": 11,
     "metadata": {},
     "output_type": "execute_result"
    }
   ],
   "source": [
    "print len(salaries_df)\n",
    "display(salaries_df.head(1))\n",
    "salaries_df.describe()"
   ]
  }
 ],
 "metadata": {
  "kernelspec": {
   "display_name": "jupyter3 Python 3",
   "language": "python",
   "name": "jupyter3 python 3"
  },
  "language_info": {
   "codemirror_mode": {
    "name": "ipython",
    "version": 2
   },
   "file_extension": ".py",
   "mimetype": "text/x-python",
   "name": "python",
   "nbconvert_exporter": "python",
   "pygments_lexer": "ipython2",
   "version": "2.7.12"
  }
 },
 "nbformat": 4,
 "nbformat_minor": 2
}
